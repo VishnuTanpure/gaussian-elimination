{
  "nbformat": 4,
  "nbformat_minor": 0,
  "metadata": {
    "colab": {
      "name": "Lagrange's_Interpolation.ipynb",
      "provenance": [],
      "private_outputs": true,
      "toc_visible": true,
      "mount_file_id": "1xtyn6oo1AJFpeyLLxAIGUnSMBgNd_tIo",
      "authorship_tag": "ABX9TyP/j+gFK6XpVfJtY4Cnx6Z9",
      "include_colab_link": true
    },
    "kernelspec": {
      "name": "python3",
      "display_name": "Python 3"
    }
  },
  "cells": [
    {
      "cell_type": "markdown",
      "metadata": {
        "id": "view-in-github",
        "colab_type": "text"
      },
      "source": [
        "<a href=\"https://colab.research.google.com/github/VishnuTanpure/gaussian-elimination/blob/master/Lagrange's_Interpolation.ipynb\" target=\"_parent\"><img src=\"https://colab.research.google.com/assets/colab-badge.svg\" alt=\"Open In Colab\"/></a>"
      ]
    },
    {
      "cell_type": "markdown",
      "metadata": {
        "id": "ba4QyIGAu5DV",
        "colab_type": "text"
      },
      "source": [
        "Lagrange's Interpolation\n"
      ]
    },
    {
      "cell_type": "code",
      "metadata": {
        "id": "23hAqTshu3gW",
        "colab_type": "code",
        "cellView": "form",
        "colab": {}
      },
      "source": [
        "#@title Lagrange's Interpolation\n",
        "from tabulate import tabulate\n",
        "from fractions import Fraction\n",
        "import numpy as np\n",
        "import sympy as sp\n",
        "from sympy import *\n",
        "import matplotlib.pyplot as plt\n",
        " \n",
        "x=sp.symbols('x')\n",
        "t=1\n",
        "while(t==1):\n",
        "    try:\n",
        "        n=int(input(\"Enter the length:\"))      \n",
        "        t=0\n",
        "    except Exception as e:\n",
        "        print(e)\n",
        "        print(\"Please Enter Natural number:\")\n",
        "        t=1\n",
        "t=1\n",
        "while(t==1):\n",
        "    try:\n",
        "        t1=1\n",
        "        while(t1==1):\n",
        "            print(\"Enter distinct values of x separated by coma(,):\")\n",
        "            X=[sp.Rational(i) for i in input().split(\",\")]\n",
        "            if(len(set(X))!=n): \n",
        "                print(\"Please Enter\",n,\"distinct values of x.\")\n",
        "                t1=1\n",
        "            else:\n",
        "                t1=0\n",
        "        while(t1==0):\n",
        "            print(\"Enter values of y separated by coma(,):\")\n",
        "            Y=[sp.Rational(i) for i in input().split(\",\")]\n",
        "            if(len(Y)!=n):\n",
        "                print(\"Please Enter\",n,\"values of y.\")\n",
        "                t1=0\n",
        "            else:\n",
        "                t1=1\n",
        "        t=0\n",
        "    except Exception as e:\n",
        "        print(e)\n",
        "        print(\"Print give correct input.\")\n",
        "        t=1\n",
        "        \n",
        "tab=[[Fraction(0) for j in range (2)] for i in range(n)]\n",
        "for i in range(n):\n",
        "    tab[i][0]=X[i]\n",
        "    \n",
        "for i in range(n):\n",
        "    tab[i][1]=Y[i]\n",
        "    \n",
        "header=['x','y']\n",
        "sp.pprint(tabulate(tab,headers=header))\n",
        " \n",
        "ln=[Fraction(0) for i in range(n)]\n",
        "ld=[[Fraction(0) for i in range(n)] for j in range(n)]\n",
        "for i in range(n):\n",
        "    ln[i]=x-X[i]\n",
        "    \n",
        "for i in range(n):\n",
        "    for j in range(n):\n",
        "        if(i!=j):\n",
        "            ld[i][j]=X[i]-X[j]\n",
        " \n",
        "LN=[1 for i in range(n)]\n",
        "LD=[1 for i in range(n)]\n",
        "for i in range(n):\n",
        "    for j in range(n):\n",
        "        if(i!=j):\n",
        "            LN[i]=LN[i]*ln[j]\n",
        "            LD[i]=LD[i]*ld[i][j]\n",
        "           \n",
        "L=[Fraction(0) for i in range(n)]\n",
        "for i in range(n):\n",
        "    L[i]=LN[i]/LD[i]\n",
        "    L[i]=expand(L[i])\n",
        "    \n",
        "f=0\n",
        "for i in range(n):\n",
        "    f=f+Y[i]*L[i]\n",
        " \n",
        "print(\"Lagrange's Interpolating Polynomial for y =\")\n",
        "sp.pprint(f)\n",
        "a=Poly(f,x)\n",
        "coeff=a.all_coeffs()\n",
        " \n",
        "t=1\n",
        "while(t==1):\n",
        "    try:\n",
        "        cont=1\n",
        "        while(cont==1):\n",
        "            xc=sp.Rational(input(\"Enter the value of x at which y is to be evaluate:\"))\n",
        "            print(\"Value of y at x=\",xc,\"is:\")\n",
        "            val=np.polyval(coeff,xc)\n",
        "            print(val)\n",
        "            \n",
        "            check=1\n",
        "            while(check==1):\n",
        "                try:\n",
        "                    cont=float(input(\"Enter 1 to continue or 0 to stop:\"))\n",
        "                    if(cont!=1 and cont!=0):\n",
        "                        check==1\n",
        "                    else:\n",
        "                        check=0\n",
        "                except Exception as e:\n",
        "                    print(e)\n",
        "                    print(\"Invalid Input\")\n",
        "                    check=1\n",
        "        t=0\n",
        "    except Exception as e:\n",
        "        print(e)\n",
        "        t=1"
      ],
      "execution_count": null,
      "outputs": []
    },
    {
      "cell_type": "markdown",
      "metadata": {
        "id": "tCapo18xZu0j",
        "colab_type": "text"
      },
      "source": [
        "# New Section"
      ]
    }
  ]
}